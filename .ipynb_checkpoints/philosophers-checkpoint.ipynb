{
 "cells": [
  {
   "cell_type": "markdown",
   "metadata": {},
   "source": [
    "# Philosopher trends over time\n",
    "\n",
    "Wikipedia is a particularly great source because it documents any *impactful* philosophers (those that are worth having a page about, and thus are more likely to have an impact on the field -- not just individuals who have a PhD in philosophy) matters.\n",
    "\n",
    "[sparql query](https://query.wikidata.org/)\n",
    "```sql\n",
    "SELECT ?person ?personLabel ?dob\n",
    "WHERE\n",
    "{\n",
    "  ?person wdt:P106 wd:Q4964182;\n",
    "          wdt:P569 ?dob.\n",
    "  SERVICE wikibase:label { bd:serviceParam wikibase:language \"[AUTO_LANGUAGE]\". }\n",
    "}\n",
    "```\n",
    "\n",
    "## Todo\n",
    "\n",
    "plot ratio of #philosophers to |population|\n",
    "\n",
    "## resources\n",
    "- https://gapminder.org/data/documentation/gd003/\n",
    "- https://www.worldometers.info/world-population/world-population-by-year/"
   ]
  },
  {
   "cell_type": "code",
   "execution_count": 133,
   "metadata": {
    "execution": {
     "iopub.execute_input": "2021-10-09T21:41:41.794114Z",
     "iopub.status.busy": "2021-10-09T21:41:41.793587Z",
     "iopub.status.idle": "2021-10-09T21:41:42.091380Z",
     "shell.execute_reply": "2021-10-09T21:41:42.089667Z",
     "shell.execute_reply.started": "2021-10-09T21:41:41.794040Z"
    }
   },
   "outputs": [
    {
     "data": {
      "text/html": [
       "<div>\n",
       "<style scoped>\n",
       "    .dataframe tbody tr th:only-of-type {\n",
       "        vertical-align: middle;\n",
       "    }\n",
       "\n",
       "    .dataframe tbody tr th {\n",
       "        vertical-align: top;\n",
       "    }\n",
       "\n",
       "    .dataframe thead th {\n",
       "        text-align: right;\n",
       "    }\n",
       "</style>\n",
       "<table border=\"1\" class=\"dataframe\">\n",
       "  <thead>\n",
       "    <tr style=\"text-align: right;\">\n",
       "      <th></th>\n",
       "      <th>name</th>\n",
       "      <th>yob</th>\n",
       "    </tr>\n",
       "  </thead>\n",
       "  <tbody>\n",
       "    <tr>\n",
       "      <td>0</td>\n",
       "      <td>John Amos Comenius</td>\n",
       "      <td>1592</td>\n",
       "    </tr>\n",
       "    <tr>\n",
       "      <td>1</td>\n",
       "      <td>Umberto Eco</td>\n",
       "      <td>1932</td>\n",
       "    </tr>\n",
       "    <tr>\n",
       "      <td>2</td>\n",
       "      <td>George Soros</td>\n",
       "      <td>1930</td>\n",
       "    </tr>\n",
       "    <tr>\n",
       "      <td>3</td>\n",
       "      <td>Vinoba Bhave</td>\n",
       "      <td>1895</td>\n",
       "    </tr>\n",
       "    <tr>\n",
       "      <td>4</td>\n",
       "      <td>Frédéric Bastiat</td>\n",
       "      <td>1801</td>\n",
       "    </tr>\n",
       "  </tbody>\n",
       "</table>\n",
       "</div>"
      ],
      "text/plain": [
       "                 name   yob\n",
       "0  John Amos Comenius  1592\n",
       "1         Umberto Eco  1932\n",
       "2        George Soros  1930\n",
       "3        Vinoba Bhave  1895\n",
       "4    Frédéric Bastiat  1801"
      ]
     },
     "execution_count": 133,
     "metadata": {},
     "output_type": "execute_result"
    }
   ],
   "source": [
    "import pandas as pd\n",
    "import numpy as np\n",
    "import matplotlib.pyplot as plt\n",
    "\n",
    "font = {'family' : 'Arial',\n",
    "       'weight' : 'regular',\n",
    "       'size'   : 18}\n",
    "plt.rc('font', **font)\n",
    "plt.rcParams['axes.spines.top']=False\n",
    "plt.rcParams['axes.spines.right']=False\n",
    "\n",
    "import re\n",
    "pat = re.compile('^-?\\d+') #integers (positive OR negative (BC)!)\n",
    "df = pd.read_csv('./data/philosophers.csv')\n",
    "df = df.drop(labels=['person'], axis=1) #drop sparql id\n",
    "df = df[~df.dob.str.startswith('t')]# people w/o dob have values like 't2246811766'\n",
    "df.dob = df.dob.apply(lambda s: int(re.match(pat, s)[0])) #can't convert to datetime because of time range!\n",
    "df = df.rename(columns={\"personLabel\": \"name\", 'dob':'yob'})\n",
    "df = df[df.yob != 2000] # most people with yob=2000 is actually \"born in 20th century\"\n",
    "df.head()"
   ]
  },
  {
   "cell_type": "code",
   "execution_count": 134,
   "metadata": {
    "execution": {
     "iopub.execute_input": "2021-10-09T21:41:44.403436Z",
     "iopub.status.busy": "2021-10-09T21:41:44.402906Z",
     "iopub.status.idle": "2021-10-09T21:41:44.752148Z",
     "shell.execute_reply": "2021-10-09T21:41:44.750153Z",
     "shell.execute_reply.started": "2021-10-09T21:41:44.403369Z"
    }
   },
   "outputs": [
    {
     "data": {
      "image/png": "[encoded data removed]",
      "text/plain": [
       "<Figure size 576x288 with 1 Axes>"
      ]
     },
     "metadata": {
      "needs_background": "light"
     },
     "output_type": "display_data"
    }
   ],
   "source": [
    "start_date = 1700\n",
    "# plt.figure(figsize=(8,4))\n",
    "# plt.hist(np.array(df[df.yob > start_date].yob).flatten(), histtype='step', bins=100, lw=2)\n",
    "# plt.xticks(rotation=45)\n",
    "# plt.locator_params(axis=\"x\", nbins=30)\n",
    "# plt.yscale('log')\n",
    "# plt.show()\n",
    "plt.figure(figsize=(8,4))\n",
    "plt.plot(df[df.yob > start_date].groupby(['yob']).size(), color='b')\n",
    "plt.xticks(rotation=45)\n",
    "plt.locator_params(axis=\"x\", nbins=10)\n",
    "# plt.yscale('log')\n",
    "plt.xlabel('Year');   plt.ylabel('# philosophers w/ wikipedia pages')\n",
    "plt.show()\n"
   ]
  },
  {
   "cell_type": "code",
   "execution_count": 188,
   "metadata": {
    "execution": {
     "iopub.execute_input": "2021-10-09T23:33:51.368815Z",
     "iopub.status.busy": "2021-10-09T23:33:51.368400Z",
     "iopub.status.idle": "2021-10-09T23:33:51.833011Z",
     "shell.execute_reply": "2021-10-09T23:33:51.831597Z",
     "shell.execute_reply.started": "2021-10-09T23:33:51.368765Z"
    }
   },
   "outputs": [
    {
     "data": {
      "text/html": [
       "<div>\n",
       "<style scoped>\n",
       "    .dataframe tbody tr th:only-of-type {\n",
       "        vertical-align: middle;\n",
       "    }\n",
       "\n",
       "    .dataframe tbody tr th {\n",
       "        vertical-align: top;\n",
       "    }\n",
       "\n",
       "    .dataframe thead th {\n",
       "        text-align: right;\n",
       "    }\n",
       "</style>\n",
       "<table border=\"1\" class=\"dataframe\">\n",
       "  <thead>\n",
       "    <tr style=\"text-align: right;\">\n",
       "      <th></th>\n",
       "      <th>Year</th>\n",
       "      <th>World Population</th>\n",
       "    </tr>\n",
       "  </thead>\n",
       "  <tbody>\n",
       "    <tr>\n",
       "      <td>0</td>\n",
       "      <td>2020</td>\n",
       "      <td>7794798739</td>\n",
       "    </tr>\n",
       "    <tr>\n",
       "      <td>1</td>\n",
       "      <td>2019</td>\n",
       "      <td>7713468100</td>\n",
       "    </tr>\n",
       "    <tr>\n",
       "      <td>2</td>\n",
       "      <td>2018</td>\n",
       "      <td>7631091040</td>\n",
       "    </tr>\n",
       "    <tr>\n",
       "      <td>3</td>\n",
       "      <td>2017</td>\n",
       "      <td>7547858925</td>\n",
       "    </tr>\n",
       "    <tr>\n",
       "      <td>4</td>\n",
       "      <td>2016</td>\n",
       "      <td>7464022049</td>\n",
       "    </tr>\n",
       "  </tbody>\n",
       "</table>\n",
       "</div>"
      ],
      "text/plain": [
       "   Year  World Population\n",
       "0  2020        7794798739\n",
       "1  2019        7713468100\n",
       "2  2018        7631091040\n",
       "3  2017        7547858925\n",
       "4  2016        7464022049"
      ]
     },
     "execution_count": 188,
     "metadata": {},
     "output_type": "execute_result"
    }
   ],
   "source": [
    "from bs4 import BeautifulSoup\n",
    "from urllib.request import Request, urlopen\n",
    "from collections import defaultdict\n",
    "\n",
    "hdr = {'User-Agent': 'Mozilla/5.0'}\n",
    "req = Request(url, headers=hdr)\n",
    "page = urlopen(req)\n",
    "soup = BeautifulSoup(page)\n",
    "\n",
    "year2pop = defaultdict(list)\n",
    "all_td = soup.find_all('td')\n",
    "cols = ['Year','World Population','YearlyChange','NetChange','Density(P/Km²)','UrbanPop','UrbanPop %'] #copied and pasted from webpage\n",
    "ix = 0\n",
    "for i, el in enumerate(all_td):\n",
    "    \n",
    "    try: # if not null and stringy number\n",
    "        elstr = int(el.string.replace(',',''))\n",
    "    except:\n",
    "        elstr = el.string\n",
    "    year2pop[cols[i % 7]].append(elstr)\n",
    "\n",
    "keep_cols = ['Year', 'World Population']\n",
    "\n",
    "year2pop = pd.DataFrame(year2pop)\n",
    "year2pop.to_csv('./data/popstats.csv')\n",
    "year2pop = year2pop[keep_cols]\n",
    "year2pop.head()"
   ]
  },
  {
   "cell_type": "code",
   "execution_count": null,
   "metadata": {},
   "outputs": [],
   "source": []
  }
 ],
 "metadata": {
  "kernelspec": {
   "display_name": "Python 3",
   "language": "python",
   "name": "python3"
  },
  "language_info": {
   "codemirror_mode": {
    "name": "ipython",
    "version": 3
   },
   "file_extension": ".py",
   "mimetype": "text/x-python",
   "name": "python",
   "nbconvert_exporter": "python",
   "pygments_lexer": "ipython3",
   "version": "3.7.4"
  }
 },
 "nbformat": 4,
 "nbformat_minor": 4
}
